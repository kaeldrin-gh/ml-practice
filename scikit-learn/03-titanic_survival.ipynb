{
 "cells": [
  {
   "cell_type": "markdown",
   "id": "7e5898fe",
   "metadata": {},
   "source": [
    "# Titanic Survival Prediction\n",
    "**Goal:** Predict survival using classical ML.  \n",
    "**Dataset:** Titanic (Seaborn)  \n",
    "**Model:** Random Forest (pipeline with preprocessing)  \n",
    "**Metrics:** Accuracy, Precision, Recall, F1-score  \n",
    "\n",
    "---\n",
    "\n",
    "## Imports\n"
   ]
  },
  {
   "cell_type": "code",
   "execution_count": null,
   "id": "1c4d43b1",
   "metadata": {},
   "outputs": [],
   "source": [
    "# --- Imports ---\n",
    "import numpy as np\n",
    "import pandas as pd\n",
    "import matplotlib.pyplot as plt\n",
    "import seaborn as sns\n",
    "\n",
    "from sklearn.model_selection import train_test_split, StratifiedKFold, GridSearchCV\n",
    "from sklearn.preprocessing import StandardScaler, OneHotEncoder\n",
    "from sklearn.compose import ColumnTransformer\n",
    "from sklearn.pipeline import Pipeline\n",
    "from sklearn.ensemble import RandomForestClassifier\n",
    "from sklearn.metrics import classification_report, confusion_matrix, ConfusionMatrixDisplay\n",
    "\n",
    "# --- Reproducibility ---\n",
    "SEED = 42\n",
    "np.random.seed(SEED)\n"
   ]
  },
  {
   "cell_type": "markdown",
   "id": "58d6a63a",
   "metadata": {},
   "source": [
    "## Load and Inspect Dataset\n"
   ]
  },
  {
   "cell_type": "code",
   "execution_count": null,
   "id": "9464eb49",
   "metadata": {},
   "outputs": [],
   "source": [
    "# Load dataset\n",
    "titanic = sns.load_dataset(\"titanic\")\n",
    "print(titanic.head())\n",
    "print(titanic.info())\n",
    "\n",
    "# Basic cleanup: drop missing values in key features\n",
    "titanic = titanic.dropna(subset=[\"age\", \"embarked\", \"fare\"])"
   ]
  },
  {
   "cell_type": "markdown",
   "id": "022ff21c",
   "metadata": {},
   "source": [
    "## Feature Selection\n"
   ]
  },
  {
   "cell_type": "code",
   "execution_count": null,
   "id": "57b1cd97",
   "metadata": {},
   "outputs": [],
   "source": [
    "# Features and target\n",
    "X = titanic[[\"pclass\", \"sex\", \"age\", \"sibsp\", \"parch\", \"fare\", \"embarked\"]]\n",
    "y = titanic[\"survived\"]\n",
    "\n",
    "# Identify numeric and categorical columns\n",
    "num_cols = [\"age\", \"sibsp\", \"parch\", \"fare\", \"pclass\"]\n",
    "cat_cols = [\"sex\", \"embarked\"]\n"
   ]
  },
  {
   "cell_type": "markdown",
   "id": "bbdd85a5",
   "metadata": {},
   "source": [
    "## 4️⃣ Preprocessing + Pipeline"
   ]
  },
  {
   "cell_type": "code",
   "execution_count": null,
   "id": "d5557012",
   "metadata": {},
   "outputs": [],
   "source": [
    "# Preprocessing\n",
    "preprocessor = ColumnTransformer([\n",
    "    (\"num\", StandardScaler(), num_cols),\n",
    "    (\"cat\", OneHotEncoder(handle_unknown=\"ignore\"), cat_cols)\n",
    "])\n",
    "\n",
    "# Pipeline with Random Forest\n",
    "clf = Pipeline([\n",
    "    (\"preprocess\", preprocessor),\n",
    "    (\"model\", RandomForestClassifier(random_state=SEED))\n",
    "])\n"
   ]
  },
  {
   "cell_type": "markdown",
   "id": "a07f9c6e",
   "metadata": {},
   "source": [
    "## 5️⃣ Hyperparameter Tuning\n"
   ]
  },
  {
   "cell_type": "code",
   "execution_count": null,
   "id": "ec8c7352",
   "metadata": {},
   "outputs": [],
   "source": [
    "# Hyperparameter grid\n",
    "param_grid = {\n",
    "    \"model__n_estimators\": [50, 100],\n",
    "    \"model__max_depth\": [None, 5, 10],\n",
    "    \"model__min_samples_split\": [2, 4]\n",
    "}\n",
    "\n",
    "cv = StratifiedKFold(n_splits=5, shuffle=True, random_state=SEED)\n",
    "grid_search = GridSearchCV(clf, param_grid, cv=cv, scoring=\"accuracy\", n_jobs=-1)\n",
    "grid_search.fit(X, y)\n",
    "\n",
    "print(\"Best Params:\", grid_search.best_params_)\n",
    "print(\"Best CV Score:\", grid_search.best_score_)\n"
   ]
  },
  {
   "cell_type": "markdown",
   "id": "794b2121",
   "metadata": {},
   "source": [
    "## 6️⃣ Train & Evaluate"
   ]
  },
  {
   "cell_type": "code",
   "execution_count": null,
   "id": "dda56c37",
   "metadata": {},
   "outputs": [],
   "source": [
    "# Train/test split\n",
    "X_train, X_test, y_train, y_test = train_test_split(\n",
    "    X, y, test_size=0.2, random_state=SEED, stratify=y\n",
    ")\n",
    "\n",
    "# Train best model\n",
    "best_model = grid_search.best_estimator_\n",
    "best_model.fit(X_train, y_train)\n",
    "\n",
    "# Predictions\n",
    "y_pred = best_model.predict(X_test)"
   ]
  },
  {
   "cell_type": "markdown",
   "id": "ce4d009a",
   "metadata": {},
   "source": [
    "## 7️⃣ Classification Metrics"
   ]
  },
  {
   "cell_type": "code",
   "execution_count": null,
   "id": "3757ca72",
   "metadata": {},
   "outputs": [],
   "source": [
    "print(classification_report(y_test, y_pred))\n",
    "\n",
    "# Confusion matrix\n",
    "cm = confusion_matrix(y_test, y_pred)\n",
    "disp = ConfusionMatrixDisplay(cm, display_labels=[\"Not Survived\", \"Survived\"])\n",
    "disp.plot(cmap=\"Blues\", values_format=\"d\")\n",
    "plt.show()\n"
   ]
  },
  {
   "cell_type": "markdown",
   "id": "9ba25cd4",
   "metadata": {},
   "source": [
    "## 8️⃣ Feature Importance"
   ]
  },
  {
   "cell_type": "code",
   "execution_count": null,
   "id": "1e1c59de",
   "metadata": {},
   "outputs": [],
   "source": [
    "# Feature importances from Random Forest\n",
    "importances = best_model.named_steps[\"model\"].feature_importances_\n",
    "features = num_cols + list(best_model.named_steps[\"preprocess\"].named_transformers_[\"cat\"].get_feature_names_out())\n",
    "\n",
    "sns.barplot(x=importances, y=features)\n",
    "plt.title(\"Feature Importances\")\n",
    "plt.show()\n"
   ]
  }
 ],
 "metadata": {
  "language_info": {
   "name": "python"
  }
 },
 "nbformat": 4,
 "nbformat_minor": 5
}
