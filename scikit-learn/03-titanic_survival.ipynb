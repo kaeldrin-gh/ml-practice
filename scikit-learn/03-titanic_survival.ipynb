{
 "cells": [
  {
   "cell_type": "markdown",
   "id": "7e5898fe",
   "metadata": {},
   "source": [
    "# Titanic Survival Prediction\n",
    "**Goal:** Predict survival using classical ML.  \n",
    "**Dataset:** Titanic (Seaborn)  \n",
    "**Model:** Random Forest (pipeline with preprocessing)  \n",
    "**Metrics:** Accuracy, Precision, Recall, F1-score  \n",
    "\n",
    "---\n",
    "\n",
    "## Imports\n"
   ]
  },
  {
   "cell_type": "code",
   "execution_count": 1,
   "id": "1c4d43b1",
   "metadata": {},
   "outputs": [],
   "source": [
    "# --- Imports ---\n",
    "import numpy as np\n",
    "import pandas as pd\n",
    "import matplotlib.pyplot as plt\n",
    "import seaborn as sns\n",
    "\n",
    "from sklearn.model_selection import train_test_split, StratifiedKFold, GridSearchCV\n",
    "from sklearn.preprocessing import StandardScaler, OneHotEncoder\n",
    "from sklearn.compose import ColumnTransformer\n",
    "from sklearn.pipeline import Pipeline\n",
    "from sklearn.ensemble import RandomForestClassifier\n",
    "from sklearn.metrics import classification_report, confusion_matrix, ConfusionMatrixDisplay\n",
    "\n",
    "# --- Reproducibility ---\n",
    "SEED = 42\n",
    "np.random.seed(SEED)\n"
   ]
  },
  {
   "cell_type": "markdown",
   "id": "58d6a63a",
   "metadata": {},
   "source": [
    "## Load and Inspect Dataset\n"
   ]
  },
  {
   "cell_type": "code",
   "execution_count": 2,
   "id": "9464eb49",
   "metadata": {},
   "outputs": [
    {
     "name": "stdout",
     "output_type": "stream",
     "text": [
      "   survived  pclass     sex   age  sibsp  parch     fare embarked  class  \\\n",
      "0         0       3    male  22.0      1      0   7.2500        S  Third   \n",
      "1         1       1  female  38.0      1      0  71.2833        C  First   \n",
      "2         1       3  female  26.0      0      0   7.9250        S  Third   \n",
      "3         1       1  female  35.0      1      0  53.1000        S  First   \n",
      "4         0       3    male  35.0      0      0   8.0500        S  Third   \n",
      "\n",
      "     who  adult_male deck  embark_town alive  alone  \n",
      "0    man        True  NaN  Southampton    no  False  \n",
      "1  woman       False    C    Cherbourg   yes  False  \n",
      "2  woman       False  NaN  Southampton   yes   True  \n",
      "3  woman       False    C  Southampton   yes  False  \n",
      "4    man        True  NaN  Southampton    no   True  \n",
      "<class 'pandas.core.frame.DataFrame'>\n",
      "RangeIndex: 891 entries, 0 to 890\n",
      "Data columns (total 15 columns):\n",
      " #   Column       Non-Null Count  Dtype   \n",
      "---  ------       --------------  -----   \n",
      " 0   survived     891 non-null    int64   \n",
      " 1   pclass       891 non-null    int64   \n",
      " 2   sex          891 non-null    object  \n",
      " 3   age          714 non-null    float64 \n",
      " 4   sibsp        891 non-null    int64   \n",
      " 5   parch        891 non-null    int64   \n",
      " 6   fare         891 non-null    float64 \n",
      " 7   embarked     889 non-null    object  \n",
      " 8   class        891 non-null    category\n",
      " 9   who          891 non-null    object  \n",
      " 10  adult_male   891 non-null    bool    \n",
      " 11  deck         203 non-null    category\n",
      " 12  embark_town  889 non-null    object  \n",
      " 13  alive        891 non-null    object  \n",
      " 14  alone        891 non-null    bool    \n",
      "dtypes: bool(2), category(2), float64(2), int64(4), object(5)\n",
      "memory usage: 80.7+ KB\n",
      "None\n"
     ]
    }
   ],
   "source": [
    "# Load dataset\n",
    "titanic = sns.load_dataset(\"titanic\")\n",
    "print(titanic.head())\n",
    "print(titanic.info())\n",
    "\n",
    "# Basic cleanup: drop missing values in key features\n",
    "titanic = titanic.dropna(subset=[\"age\", \"embarked\", \"fare\"])"
   ]
  },
  {
   "cell_type": "markdown",
   "id": "022ff21c",
   "metadata": {},
   "source": [
    "## Feature Selection\n"
   ]
  },
  {
   "cell_type": "code",
   "execution_count": 3,
   "id": "57b1cd97",
   "metadata": {},
   "outputs": [],
   "source": [
    "# Features and target\n",
    "X = titanic[[\"pclass\", \"sex\", \"age\", \"sibsp\", \"parch\", \"fare\", \"embarked\"]]\n",
    "y = titanic[\"survived\"]\n",
    "\n",
    "# Identify numeric and categorical columns\n",
    "num_cols = [\"age\", \"sibsp\", \"parch\", \"fare\", \"pclass\"]\n",
    "cat_cols = [\"sex\", \"embarked\"]\n"
   ]
  },
  {
   "cell_type": "markdown",
   "id": "bbdd85a5",
   "metadata": {},
   "source": [
    "## 4️⃣ Preprocessing + Pipeline"
   ]
  },
  {
   "cell_type": "code",
   "execution_count": 4,
   "id": "d5557012",
   "metadata": {},
   "outputs": [],
   "source": [
    "# Preprocessing\n",
    "preprocessor = ColumnTransformer([\n",
    "    (\"num\", StandardScaler(), num_cols),\n",
    "    (\"cat\", OneHotEncoder(handle_unknown=\"ignore\"), cat_cols)\n",
    "])\n",
    "\n",
    "# Pipeline with Random Forest\n",
    "clf = Pipeline([\n",
    "    (\"preprocess\", preprocessor),\n",
    "    (\"model\", RandomForestClassifier(random_state=SEED))\n",
    "])\n"
   ]
  },
  {
   "cell_type": "markdown",
   "id": "a07f9c6e",
   "metadata": {},
   "source": [
    "## 5️⃣ Hyperparameter Tuning\n"
   ]
  },
  {
   "cell_type": "code",
   "execution_count": 5,
   "id": "ec8c7352",
   "metadata": {},
   "outputs": [
    {
     "name": "stdout",
     "output_type": "stream",
     "text": [
      "Best Params: {'model__max_depth': 10, 'model__min_samples_split': 4, 'model__n_estimators': 50}\n",
      "Best CV Score: 0.8272333300502315\n"
     ]
    }
   ],
   "source": [
    "# Hyperparameter grid\n",
    "param_grid = {\n",
    "    \"model__n_estimators\": [50, 100],\n",
    "    \"model__max_depth\": [None, 5, 10],\n",
    "    \"model__min_samples_split\": [2, 4]\n",
    "}\n",
    "\n",
    "cv = StratifiedKFold(n_splits=5, shuffle=True, random_state=SEED)\n",
    "grid_search = GridSearchCV(clf, param_grid, cv=cv, scoring=\"accuracy\", n_jobs=-1)\n",
    "grid_search.fit(X, y)\n",
    "\n",
    "print(\"Best Params:\", grid_search.best_params_)\n",
    "print(\"Best CV Score:\", grid_search.best_score_)\n"
   ]
  },
  {
   "cell_type": "markdown",
   "id": "794b2121",
   "metadata": {},
   "source": [
    "## 6️⃣ Train & Evaluate"
   ]
  },
  {
   "cell_type": "code",
   "execution_count": 6,
   "id": "dda56c37",
   "metadata": {},
   "outputs": [],
   "source": [
    "# Train/test split\n",
    "X_train, X_test, y_train, y_test = train_test_split(\n",
    "    X, y, test_size=0.2, random_state=SEED, stratify=y\n",
    ")\n",
    "\n",
    "# Train best model\n",
    "best_model = grid_search.best_estimator_\n",
    "best_model.fit(X_train, y_train)\n",
    "\n",
    "# Predictions\n",
    "y_pred = best_model.predict(X_test)"
   ]
  },
  {
   "cell_type": "markdown",
   "id": "ce4d009a",
   "metadata": {},
   "source": [
    "## 7️⃣ Classification Metrics"
   ]
  },
  {
   "cell_type": "code",
   "execution_count": 7,
   "id": "3757ca72",
   "metadata": {},
   "outputs": [
    {
     "name": "stdout",
     "output_type": "stream",
     "text": [
      "              precision    recall  f1-score   support\n",
      "\n",
      "           0       0.82      0.84      0.83        85\n",
      "           1       0.75      0.72      0.74        58\n",
      "\n",
      "    accuracy                           0.79       143\n",
      "   macro avg       0.78      0.78      0.78       143\n",
      "weighted avg       0.79      0.79      0.79       143\n",
      "\n"
     ]
    },
    {
     "data": {
      "image/png": "[encoded data removed]",
      "text/plain": [
       "<Figure size 640x480 with 2 Axes>"
      ]
     },
     "metadata": {},
     "output_type": "display_data"
    }
   ],
   "source": [
    "print(classification_report(y_test, y_pred))\n",
    "\n",
    "# Confusion matrix\n",
    "cm = confusion_matrix(y_test, y_pred)\n",
    "disp = ConfusionMatrixDisplay(cm, display_labels=[\"Not Survived\", \"Survived\"])\n",
    "disp.plot(cmap=\"Blues\", values_format=\"d\")\n",
    "plt.show()\n"
   ]
  },
  {
   "cell_type": "markdown",
   "id": "9ba25cd4",
   "metadata": {},
   "source": [
    "## 8️⃣ Feature Importance"
   ]
  },
  {
   "cell_type": "code",
   "execution_count": 8,
   "id": "1e1c59de",
   "metadata": {},
   "outputs": [
    {
     "data": {
      "image/png": "[encoded data removed]",
      "text/plain": [
       "<Figure size 640x480 with 1 Axes>"
      ]
     },
     "metadata": {},
     "output_type": "display_data"
    }
   ],
   "source": [
    "# Feature importances from Random Forest\n",
    "importances = best_model.named_steps[\"model\"].feature_importances_\n",
    "features = num_cols + list(best_model.named_steps[\"preprocess\"].named_transformers_[\"cat\"].get_feature_names_out())\n",
    "\n",
    "sns.barplot(x=importances, y=features)\n",
    "plt.title(\"Feature Importances\")\n",
    "plt.show()\n"
   ]
  }
 ],
 "metadata": {
  "kernelspec": {
   "display_name": "base",
   "language": "python",
   "name": "python3"
  },
  "language_info": {
   "codemirror_mode": {
    "name": "ipython",
    "version": 3
   },
   "file_extension": ".py",
   "mimetype": "text/x-python",
   "name": "python",
   "nbconvert_exporter": "python",
   "pygments_lexer": "ipython3",
   "version": "3.12.9"
  }
 },
 "nbformat": 4,
 "nbformat_minor": 5
}
