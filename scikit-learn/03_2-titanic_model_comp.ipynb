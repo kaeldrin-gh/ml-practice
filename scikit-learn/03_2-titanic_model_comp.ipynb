{
 "cells": [
  {
   "cell_type": "markdown",
   "id": "5700a212",
   "metadata": {},
   "source": [
    "# Titanic: Model Comparison (LR vs RF vs HGB)\n",
    "**Goal:** compare 3 classical ML models using the same preprocessing, with cross-validation + a final hold-out test.  \n",
    "**Models:** LogisticRegression, RandomForestClassifier, HistGradientBoostingClassifier  \n",
    "**Metrics:** Accuracy, F1, ROC AUC  "
   ]
  },
  {
   "cell_type": "code",
   "execution_count": 1,
   "id": "b3363a4f",
   "metadata": {},
   "outputs": [],
   "source": [
    "# 0) Imports & setup\n",
    "import numpy as np\n",
    "import pandas as pd\n",
    "import matplotlib.pyplot as plt\n",
    "import seaborn as sns\n",
    "\n",
    "from sklearn.model_selection import train_test_split, StratifiedKFold, cross_validate\n",
    "from sklearn.compose import ColumnTransformer\n",
    "from sklearn.preprocessing import StandardScaler, OneHotEncoder\n",
    "from sklearn.impute import SimpleImputer\n",
    "from sklearn.pipeline import Pipeline\n",
    "from sklearn.metrics import classification_report, confusion_matrix, ConfusionMatrixDisplay, roc_auc_score, RocCurveDisplay\n",
    "\n",
    "from sklearn.linear_model import LogisticRegression\n",
    "from sklearn.ensemble import RandomForestClassifier, HistGradientBoostingClassifier\n",
    "\n",
    "SEED = 42\n",
    "np.random.seed(SEED)\n"
   ]
  },
  {
   "cell_type": "markdown",
   "id": "8a2ae875",
   "metadata": {},
   "source": [
    "## 1) Load & inspect data\n",
    "- we’ll use seaborn’s Titanic dataset.\n",
    "- a little cleanup (drop a few rows) + define features/target.\n"
   ]
  },
  {
   "cell_type": "code",
   "execution_count": 2,
   "id": "74ca0935",
   "metadata": {},
   "outputs": [
    {
     "data": {
      "text/html": [
       "<div>\n",
       "<style scoped>\n",
       "    .dataframe tbody tr th:only-of-type {\n",
       "        vertical-align: middle;\n",
       "    }\n",
       "\n",
       "    .dataframe tbody tr th {\n",
       "        vertical-align: top;\n",
       "    }\n",
       "\n",
       "    .dataframe thead th {\n",
       "        text-align: right;\n",
       "    }\n",
       "</style>\n",
       "<table border=\"1\" class=\"dataframe\">\n",
       "  <thead>\n",
       "    <tr style=\"text-align: right;\">\n",
       "      <th></th>\n",
       "      <th>survived</th>\n",
       "      <th>pclass</th>\n",
       "      <th>sex</th>\n",
       "      <th>age</th>\n",
       "      <th>sibsp</th>\n",
       "      <th>parch</th>\n",
       "      <th>fare</th>\n",
       "      <th>embarked</th>\n",
       "      <th>class</th>\n",
       "      <th>who</th>\n",
       "      <th>adult_male</th>\n",
       "      <th>deck</th>\n",
       "      <th>embark_town</th>\n",
       "      <th>alive</th>\n",
       "      <th>alone</th>\n",
       "    </tr>\n",
       "  </thead>\n",
       "  <tbody>\n",
       "    <tr>\n",
       "      <th>0</th>\n",
       "      <td>0</td>\n",
       "      <td>3</td>\n",
       "      <td>male</td>\n",
       "      <td>22.0</td>\n",
       "      <td>1</td>\n",
       "      <td>0</td>\n",
       "      <td>7.2500</td>\n",
       "      <td>S</td>\n",
       "      <td>Third</td>\n",
       "      <td>man</td>\n",
       "      <td>True</td>\n",
       "      <td>NaN</td>\n",
       "      <td>Southampton</td>\n",
       "      <td>no</td>\n",
       "      <td>False</td>\n",
       "    </tr>\n",
       "    <tr>\n",
       "      <th>1</th>\n",
       "      <td>1</td>\n",
       "      <td>1</td>\n",
       "      <td>female</td>\n",
       "      <td>38.0</td>\n",
       "      <td>1</td>\n",
       "      <td>0</td>\n",
       "      <td>71.2833</td>\n",
       "      <td>C</td>\n",
       "      <td>First</td>\n",
       "      <td>woman</td>\n",
       "      <td>False</td>\n",
       "      <td>C</td>\n",
       "      <td>Cherbourg</td>\n",
       "      <td>yes</td>\n",
       "      <td>False</td>\n",
       "    </tr>\n",
       "    <tr>\n",
       "      <th>2</th>\n",
       "      <td>1</td>\n",
       "      <td>3</td>\n",
       "      <td>female</td>\n",
       "      <td>26.0</td>\n",
       "      <td>0</td>\n",
       "      <td>0</td>\n",
       "      <td>7.9250</td>\n",
       "      <td>S</td>\n",
       "      <td>Third</td>\n",
       "      <td>woman</td>\n",
       "      <td>False</td>\n",
       "      <td>NaN</td>\n",
       "      <td>Southampton</td>\n",
       "      <td>yes</td>\n",
       "      <td>True</td>\n",
       "    </tr>\n",
       "    <tr>\n",
       "      <th>3</th>\n",
       "      <td>1</td>\n",
       "      <td>1</td>\n",
       "      <td>female</td>\n",
       "      <td>35.0</td>\n",
       "      <td>1</td>\n",
       "      <td>0</td>\n",
       "      <td>53.1000</td>\n",
       "      <td>S</td>\n",
       "      <td>First</td>\n",
       "      <td>woman</td>\n",
       "      <td>False</td>\n",
       "      <td>C</td>\n",
       "      <td>Southampton</td>\n",
       "      <td>yes</td>\n",
       "      <td>False</td>\n",
       "    </tr>\n",
       "    <tr>\n",
       "      <th>4</th>\n",
       "      <td>0</td>\n",
       "      <td>3</td>\n",
       "      <td>male</td>\n",
       "      <td>35.0</td>\n",
       "      <td>0</td>\n",
       "      <td>0</td>\n",
       "      <td>8.0500</td>\n",
       "      <td>S</td>\n",
       "      <td>Third</td>\n",
       "      <td>man</td>\n",
       "      <td>True</td>\n",
       "      <td>NaN</td>\n",
       "      <td>Southampton</td>\n",
       "      <td>no</td>\n",
       "      <td>True</td>\n",
       "    </tr>\n",
       "  </tbody>\n",
       "</table>\n",
       "</div>"
      ],
      "text/plain": [
       "   survived  pclass     sex   age  sibsp  parch     fare embarked  class  \\\n",
       "0         0       3    male  22.0      1      0   7.2500        S  Third   \n",
       "1         1       1  female  38.0      1      0  71.2833        C  First   \n",
       "2         1       3  female  26.0      0      0   7.9250        S  Third   \n",
       "3         1       1  female  35.0      1      0  53.1000        S  First   \n",
       "4         0       3    male  35.0      0      0   8.0500        S  Third   \n",
       "\n",
       "     who  adult_male deck  embark_town alive  alone  \n",
       "0    man        True  NaN  Southampton    no  False  \n",
       "1  woman       False    C    Cherbourg   yes  False  \n",
       "2  woman       False  NaN  Southampton   yes   True  \n",
       "3  woman       False    C  Southampton   yes  False  \n",
       "4    man        True  NaN  Southampton    no   True  "
      ]
     },
     "metadata": {},
     "output_type": "display_data"
    },
    {
     "name": "stdout",
     "output_type": "stream",
     "text": [
      "deck           0.772166\n",
      "age            0.198653\n",
      "embarked       0.002245\n",
      "embark_town    0.002245\n",
      "survived       0.000000\n",
      "pclass         0.000000\n",
      "sex            0.000000\n",
      "sibsp          0.000000\n",
      "dtype: float64\n"
     ]
    }
   ],
   "source": [
    "titanic = sns.load_dataset(\"titanic\")\n",
    "\n",
    "# quick peek\n",
    "display(titanic.head())\n",
    "print(titanic.isna().mean().sort_values(ascending=False).head(8))\n",
    "\n",
    "# keep a minimal, commonly-used subset\n",
    "features = [\"pclass\", \"sex\", \"age\", \"sibsp\", \"parch\", \"fare\", \"embarked\"]\n",
    "target = \"survived\"\n",
    "\n",
    "# drop rows missing critical fields (we'll still impute numeric/categorical later to show best practice)\n",
    "df = titanic.dropna(subset=[\"embarked\"])  # embarked is small cardinality; drop rare missing rows\n",
    "X = df[features].copy()\n",
    "y = df[target].copy()\n"
   ]
  },
  {
   "cell_type": "markdown",
   "id": "f797cecf",
   "metadata": {},
   "source": [
    "## 2) Train/validation/test strategy\n",
    "- we’ll do **5-fold Stratified CV** on the **training portion** only (to compare models fairly).\n",
    "- then evaluate the chosen/best model on the untouched **hold-out test set**."
   ]
  },
  {
   "cell_type": "code",
   "execution_count": 3,
   "id": "426ce3d1",
   "metadata": {},
   "outputs": [],
   "source": [
    "X_train, X_test, y_train, y_test = train_test_split(\n",
    "    X, y, test_size=0.2, stratify=y, random_state=SEED\n",
    ")\n",
    "\n",
    "cv = StratifiedKFold(n_splits=5, shuffle=True, random_state=SEED)"
   ]
  },
  {
   "cell_type": "markdown",
   "id": "f68ba6b1",
   "metadata": {},
   "source": [
    "## 3) Preprocessing\n",
    "We need two variants:\n",
    "- **pre_lr** (for Logistic Regression): impute → **scale** nums, one-hot cats  \n",
    "- **pre_tree** (for tree models): impute nums (no scaling) + one-hot cats"
   ]
  },
  {
   "cell_type": "code",
   "execution_count": 4,
   "id": "a8e11f06",
   "metadata": {},
   "outputs": [],
   "source": [
    "num_cols = [\"age\", \"sibsp\", \"parch\", \"fare\", \"pclass\"]\n",
    "cat_cols = [\"sex\", \"embarked\"]\n",
    "\n",
    "num_for_lr   = Pipeline([(\"imputer\", SimpleImputer(strategy=\"median\")),\n",
    "                         (\"scaler\", StandardScaler())])\n",
    "\n",
    "num_for_tree = Pipeline([(\"imputer\", SimpleImputer(strategy=\"median\"))])\n",
    "\n",
    "cat_common   = Pipeline([(\"imputer\", SimpleImputer(strategy=\"most_frequent\")),\n",
    "                         (\"ohe\", OneHotEncoder(handle_unknown=\"ignore\"))])\n",
    "\n",
    "pre_lr   = ColumnTransformer([(\"num\", num_for_lr,   num_cols),\n",
    "                              (\"cat\", cat_common,   cat_cols)])\n",
    "\n",
    "pre_tree = ColumnTransformer([(\"num\", num_for_tree, num_cols),\n",
    "                              (\"cat\", cat_common,   cat_cols)])\n"
   ]
  },
  {
   "cell_type": "markdown",
   "id": "c29d2e6c",
   "metadata": {},
   "source": [
    "## 4) Build model pipelines\n",
    "Each pipeline = preprocessing + model."
   ]
  },
  {
   "cell_type": "code",
   "execution_count": 5,
   "id": "aff33936",
   "metadata": {},
   "outputs": [],
   "source": [
    "pipelines = {\n",
    "    \"LogReg\": Pipeline([\n",
    "        (\"pre\", pre_lr),\n",
    "        (\"model\", LogisticRegression(max_iter=1000))\n",
    "    ]),\n",
    "    \"RandomForest\": Pipeline([\n",
    "        (\"pre\", pre_tree),\n",
    "        (\"model\", RandomForestClassifier(random_state=SEED))\n",
    "    ]),\n",
    "    \"HistGradBoost\": Pipeline([\n",
    "        (\"pre\", pre_tree),\n",
    "        (\"model\", HistGradientBoostingClassifier(random_state=SEED))\n",
    "    ]),\n",
    "}\n",
    "\n",
    "scoring = {\n",
    "    \"accuracy\": \"accuracy\",\n",
    "    \"f1\": \"f1\",\n",
    "    \"roc_auc\": \"roc_auc\",\n",
    "}\n"
   ]
  },
  {
   "cell_type": "markdown",
   "id": "580d0f99",
   "metadata": {},
   "source": [
    "## 5) Cross-validation comparison (on training set only)\n",
    "We’ll compute mean ± std for each metric. This is your **model ranking** step."
   ]
  },
  {
   "cell_type": "code",
   "execution_count": 6,
   "id": "f05349b9",
   "metadata": {},
   "outputs": [
    {
     "data": {
      "text/html": [
       "<div>\n",
       "<style scoped>\n",
       "    .dataframe tbody tr th:only-of-type {\n",
       "        vertical-align: middle;\n",
       "    }\n",
       "\n",
       "    .dataframe tbody tr th {\n",
       "        vertical-align: top;\n",
       "    }\n",
       "\n",
       "    .dataframe thead th {\n",
       "        text-align: right;\n",
       "    }\n",
       "</style>\n",
       "<table border=\"1\" class=\"dataframe\">\n",
       "  <thead>\n",
       "    <tr style=\"text-align: right;\">\n",
       "      <th></th>\n",
       "      <th>model</th>\n",
       "      <th>cv_accuracy_mean</th>\n",
       "      <th>cv_accuracy_std</th>\n",
       "      <th>cv_f1_mean</th>\n",
       "      <th>cv_f1_std</th>\n",
       "      <th>cv_roc_auc_mean</th>\n",
       "      <th>cv_roc_auc_std</th>\n",
       "    </tr>\n",
       "  </thead>\n",
       "  <tbody>\n",
       "    <tr>\n",
       "      <th>0</th>\n",
       "      <td>HistGradBoost</td>\n",
       "      <td>0.822811</td>\n",
       "      <td>0.029834</td>\n",
       "      <td>0.758279</td>\n",
       "      <td>0.036466</td>\n",
       "      <td>0.867998</td>\n",
       "      <td>0.010222</td>\n",
       "    </tr>\n",
       "    <tr>\n",
       "      <th>1</th>\n",
       "      <td>RandomForest</td>\n",
       "      <td>0.815759</td>\n",
       "      <td>0.013556</td>\n",
       "      <td>0.754857</td>\n",
       "      <td>0.018989</td>\n",
       "      <td>0.862016</td>\n",
       "      <td>0.014972</td>\n",
       "    </tr>\n",
       "    <tr>\n",
       "      <th>2</th>\n",
       "      <td>LogReg</td>\n",
       "      <td>0.784812</td>\n",
       "      <td>0.033488</td>\n",
       "      <td>0.709971</td>\n",
       "      <td>0.048417</td>\n",
       "      <td>0.844043</td>\n",
       "      <td>0.037451</td>\n",
       "    </tr>\n",
       "  </tbody>\n",
       "</table>\n",
       "</div>"
      ],
      "text/plain": [
       "           model  cv_accuracy_mean  cv_accuracy_std  cv_f1_mean  cv_f1_std  \\\n",
       "0  HistGradBoost          0.822811         0.029834    0.758279   0.036466   \n",
       "1   RandomForest          0.815759         0.013556    0.754857   0.018989   \n",
       "2         LogReg          0.784812         0.033488    0.709971   0.048417   \n",
       "\n",
       "   cv_roc_auc_mean  cv_roc_auc_std  \n",
       "0         0.867998        0.010222  \n",
       "1         0.862016        0.014972  \n",
       "2         0.844043        0.037451  "
      ]
     },
     "execution_count": 6,
     "metadata": {},
     "output_type": "execute_result"
    }
   ],
   "source": [
    "rows = []\n",
    "cv_results_raw = {}\n",
    "\n",
    "for name, pipe in pipelines.items():\n",
    "    res = cross_validate(\n",
    "        pipe, X_train, y_train,\n",
    "        cv=cv, scoring=scoring, n_jobs=-1, return_estimator=False\n",
    "    )\n",
    "    cv_results_raw[name] = res\n",
    "    row = {\n",
    "        \"model\": name,\n",
    "        \"cv_accuracy_mean\": np.mean(res[\"test_accuracy\"]),\n",
    "        \"cv_accuracy_std\":  np.std(res[\"test_accuracy\"]),\n",
    "        \"cv_f1_mean\":       np.mean(res[\"test_f1\"]),\n",
    "        \"cv_f1_std\":        np.std(res[\"test_f1\"]),\n",
    "        \"cv_roc_auc_mean\":  np.mean(res[\"test_roc_auc\"]),\n",
    "        \"cv_roc_auc_std\":   np.std(res[\"test_roc_auc\"]),\n",
    "    }\n",
    "    rows.append(row)\n",
    "\n",
    "cv_table = pd.DataFrame(rows).sort_values([\"cv_f1_mean\",\"cv_accuracy_mean\"], ascending=False).reset_index(drop=True)\n",
    "cv_table"
   ]
  },
  {
   "cell_type": "markdown",
   "id": "9a366168",
   "metadata": {},
   "source": [
    "## 6) Pick the winner (by F1 first, then accuracy)\n",
    "Then refit that pipeline on the **full training set** and evaluate on the hold-out test set."
   ]
  },
  {
   "cell_type": "code",
   "execution_count": 7,
   "id": "aa69f61d",
   "metadata": {},
   "outputs": [
    {
     "name": "stdout",
     "output_type": "stream",
     "text": [
      "Selected best by CV: HistGradBoost\n",
      "\n",
      "Hold-out classification report:\n",
      "\n",
      "              precision    recall  f1-score   support\n",
      "\n",
      "not_survived       0.85      0.87      0.86       110\n",
      "    survived       0.78      0.75      0.77        68\n",
      "\n",
      "    accuracy                           0.83       178\n",
      "   macro avg       0.82      0.81      0.81       178\n",
      "weighted avg       0.82      0.83      0.83       178\n",
      "\n"
     ]
    },
    {
     "data": {
      "image/png": "[encoded data removed]",
      "text/plain": [
       "<Figure size 640x480 with 2 Axes>"
      ]
     },
     "metadata": {},
     "output_type": "display_data"
    }
   ],
   "source": [
    "best_name = cv_table.loc[0, \"model\"]\n",
    "best_pipe = pipelines[best_name]\n",
    "\n",
    "print(f\"Selected best by CV: {best_name}\")\n",
    "\n",
    "best_pipe.fit(X_train, y_train)\n",
    "y_pred = best_pipe.predict(X_test)\n",
    "\n",
    "print(\"\\nHold-out classification report:\\n\")\n",
    "print(classification_report(y_test, y_pred, target_names=[\"not_survived\",\"survived\"]))\n",
    "\n",
    "cm = confusion_matrix(y_test, y_pred)\n",
    "ConfusionMatrixDisplay(cm, display_labels=[\"not_survived\",\"survived\"]).plot(cmap=\"Blues\", values_format=\"d\")\n",
    "plt.title(f\"Confusion Matrix — {best_name} (hold-out)\")\n",
    "plt.show()"
   ]
  },
  {
   "cell_type": "markdown",
   "id": "27eccf1f",
   "metadata": {},
   "source": [
    "## 7) ROC AUC on the hold-out set\n",
    "We also inspect ROC AUC and curve for the chosen model."
   ]
  },
  {
   "cell_type": "code",
   "execution_count": 8,
   "id": "9359873d",
   "metadata": {},
   "outputs": [
    {
     "name": "stdout",
     "output_type": "stream",
     "text": [
      "Hold-out ROC AUC: 0.825\n"
     ]
    },
    {
     "data": {
      "image/png": "[encoded data removed]",
      "text/plain": [
       "<Figure size 640x480 with 1 Axes>"
      ]
     },
     "metadata": {},
     "output_type": "display_data"
    }
   ],
   "source": [
    "# probability support may differ; all three chosen models provide predict_proba\n",
    "if hasattr(best_pipe, \"predict_proba\"):\n",
    "    y_proba = best_pipe.predict_proba(X_test)[:, 1]\n",
    "    auc = roc_auc_score(y_test, y_proba)\n",
    "    print(f\"Hold-out ROC AUC: {auc:.3f}\")\n",
    "    RocCurveDisplay.from_predictions(y_test, y_proba)\n",
    "    plt.title(f\"ROC Curve — {best_name} (hold-out)\")\n",
    "    plt.show()\n",
    "else:\n",
    "    print(\"Selected model has no predict_proba; skipping ROC curve.\")"
   ]
  }
 ],
 "metadata": {
  "kernelspec": {
   "display_name": "base",
   "language": "python",
   "name": "python3"
  },
  "language_info": {
   "codemirror_mode": {
    "name": "ipython",
    "version": 3
   },
   "file_extension": ".py",
   "mimetype": "text/x-python",
   "name": "python",
   "nbconvert_exporter": "python",
   "pygments_lexer": "ipython3",
   "version": "3.12.9"
  }
 },
 "nbformat": 4,
 "nbformat_minor": 5
}
